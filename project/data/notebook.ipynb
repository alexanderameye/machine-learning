{
 "cells": [
  {
   "cell_type": "code",
   "execution_count": 1,
   "metadata": {},
   "outputs": [
    {
     "name": "stdout",
     "output_type": "stream",
     "text": [
      "Once deleted, variables cannot be recovered. Proceed (y/[n])? y\n"
     ]
    }
   ],
   "source": [
    "# clear variables\n",
    "%reset"
   ]
  },
  {
   "cell_type": "code",
   "execution_count": 2,
   "metadata": {},
   "outputs": [
    {
     "name": "stdout",
     "output_type": "stream",
     "text": [
      "---------------------------------------------------------------------------------------------------- \n",
      "Data set: 378661 samples\n",
      "----------------------------------------------------------------------------------------------------\n",
      "Null values:\n",
      "ID                     0\n",
      "name                   4\n",
      "category               0\n",
      "main_category          0\n",
      "currency               0\n",
      "deadline               0\n",
      "goal                   0\n",
      "launched               0\n",
      "pledged                0\n",
      "state                  0\n",
      "backers                0\n",
      "country                0\n",
      "usd pledged         3797\n",
      "usd_pledged_real       0\n",
      "usd_goal_real          0\n",
      "dtype: int64\n",
      "----------------------------------------------------------------------------------------------------\n",
      "Percentage missing for \"name\" 0.0011%\n",
      "Percentage missing for \"usd pledged\" 1.0027%\n",
      "----------------------------------------------------------------------------------------------------\n",
      "Outcomes:  ['failed', 'canceled', 'successful', 'live', 'undefined', 'suspended']\n",
      "----------------------------------------------------------------------------------------------------\n",
      "The amount of live projects is:  2799\n",
      "This is 0.74% of the total projects\n",
      "----------------------------------------------------------------------------------------------------\n"
     ]
    }
   ],
   "source": [
    "# RESOURCES\n",
    "# https://towardsdatascience.com/train-test-split-and-cross-validation-in-python-80b61beca4b6\n",
    "# https://www.youtube.com/watch?v=R-sQT9AB5cI&ab_channel=AIQCAR\n",
    "# https://www.dataquest.io/blog/learning-curves-machine-learning/\n",
    "\n",
    "# TODO: learning curves\n",
    "# TODO: create a better 'goal' feature, that uses Fixer.io API to convert the goal to current goal value, to account for inflation\n",
    "# TODO: create feature that shows within a category, how much mony was spent in the last week/month\n",
    "# TODO: create feature that shows ratio of successful/failed projects in the last month\n",
    "# TODO: train, test, validation split\n",
    "\n",
    "# NOTES\n",
    "# we work with 'ks' as our data set initially, then we create a data set 'data' that only holds a select amount of features\n",
    "\n",
    "# imports\n",
    "import sys\n",
    "import pandas as pd\n",
    "import matplotlib as mpl\n",
    "import matplotlib.pyplot as plt\n",
    "import numpy as np\n",
    "import IPython as ip\n",
    "from IPython import display as display\n",
    "import seaborn as sns\n",
    "import sklearn as sk\n",
    "import random\n",
    "import time\n",
    "\n",
    "# import data\n",
    "ks = pd.read_csv('ks2018.csv')\n",
    "print(\"-\"*100,'\\nData set: {} samples'.format(ks.shape[0]))\n",
    "print(\"-\"*100)\n",
    "\n",
    "# null data\n",
    "print('Null values:')\n",
    "print(ks.isnull().sum())\n",
    "print(\"-\"*100)\n",
    "print('Percentage missing for \"name\" %.4f%%' %((ks['name'].isnull().sum()/ks.shape[0])*100))\n",
    "print('Percentage missing for \"usd pledged\" %.4f%%' %((ks['usd pledged'].isnull().sum()/ks.shape[0])*100))\n",
    "print(\"-\"*100)\n",
    "\n",
    "# possible outcomes\n",
    "print('Outcomes: ', list(ks.state.unique()))\n",
    "print(\"-\"*100)\n",
    "\n",
    "# live projects\n",
    "live = ks.apply(lambda x: True if x['state'] == 'live' else False , axis=1)\n",
    "print('The amount of live projects is: ', len(live[live == True].index))\n",
    "print('This is %.2f%% of the total projects' %((len(live[live == True].index)/ks.shape[0])*100))\n",
    "print(\"-\"*100)\n",
    "\n",
    "pd.set_option('display.max_columns', None)"
   ]
  },
  {
   "cell_type": "code",
   "execution_count": 3,
   "metadata": {},
   "outputs": [
    {
     "name": "stdout",
     "output_type": "stream",
     "text": [
      "                ID                                  name        category  \\\n",
      "267953   433384280  ALBUM OF A HEARTIST CALLED THE BTMKR           Music   \n",
      "373758   974574948                   Searching for Proof     Documentary   \n",
      "130536  1662730313          J'ba fofi. King of arachnids     Documentary   \n",
      "341165   807763197            Drop & Fry Fried ice Cream            Food   \n",
      "287498   532701307        The Otto's: Live Album and DVD  Country & Folk   \n",
      "\n",
      "       main_category currency   deadline     goal            launched  \\\n",
      "267953         Music      EUR 2015-08-21  85000.0 2015-07-22 18:55:48   \n",
      "373758  Film & Video      USD 2016-11-10  10000.0 2016-09-26 21:11:14   \n",
      "130536  Film & Video      GBP 2015-03-23  50000.0 2015-02-18 01:07:31   \n",
      "341165          Food      USD 2017-07-29  30000.0 2017-05-30 22:52:51   \n",
      "287498         Music      AUD 2014-06-27   1500.0 2014-06-06 05:45:56   \n",
      "\n",
      "        pledged       state  backers country  usd pledged  usd_pledged_real  \\\n",
      "267953      0.0      failed        0      NL         0.00              0.00   \n",
      "373758    410.0    canceled       10      US        20.00            410.00   \n",
      "130536     21.0      failed        2      GB        32.41             31.24   \n",
      "341165     20.0      failed        1      US         0.00             20.00   \n",
      "287498   1900.0  successful       10      AU      1759.97           1789.58   \n",
      "\n",
      "        usd_goal_real  outcome  \n",
      "267953       95888.09        0  \n",
      "373758       10000.00        0  \n",
      "130536       74377.09        0  \n",
      "341165       30000.00        0  \n",
      "287498        1412.83        1  \n"
     ]
    }
   ],
   "source": [
    "# DATA [CORRECTION, COMPLETION, CONVERSION, DELETION]\n",
    "\n",
    "# remove live projects, only 0.74% of all data so not a big deal\n",
    "ks = ks.query('state != \"live\"')\n",
    "\n",
    "# set state to 1 if successful, and 0 otherwise, 1 is used for the 'rare class', there are more failed projects thant successful projects\n",
    "ks['outcome'] = (ks['state'] == 'successful').astype(int)\n",
    "\n",
    "# remove projects with null names, only 0.0011% of all data so not a big deal\n",
    "ks.drop(ks[ks.name.isnull()].index, axis=0, inplace=True, errors='ignore')\n",
    "\n",
    "# remove projects with goal over 30 000 000 since these are probably jokes, they are not realistic, remove outliers\n",
    "ks.drop(ks[ks.goal > 30000000].index, inplace=True, errors='ignore')\n",
    "\n",
    "# convert launched and deadline columns to datetime objects\n",
    "ks['launched'] = pd.to_datetime(ks['launched'])\n",
    "ks['deadline'] = pd.to_datetime(ks['deadline'])\n",
    "\n",
    "# give unix-time anomalies a new launch date, 30 days before deadline (median, in order to not mess with data)\n",
    "ks.loc[pd.DatetimeIndex(ks['launched']).year < 2000, 'launched'] = ks['deadline'] - pd.to_timedelta(30, unit='d')\n",
    "\n",
    "# select part of dataset to reduce amount of datapoints\n",
    "ks = ks.sample(1000) #reduce to 20.000 random datapoints\n",
    "\n",
    "print(ks.head(5))"
   ]
  },
  {
   "cell_type": "code",
   "execution_count": 4,
   "metadata": {},
   "outputs": [
    {
     "name": "stdout",
     "output_type": "stream",
     "text": [
      "                ID                                  name        category  \\\n",
      "267953   433384280  ALBUM OF A HEARTIST CALLED THE BTMKR           Music   \n",
      "373758   974574948                   Searching for Proof     Documentary   \n",
      "130536  1662730313          J'ba fofi. King of arachnids     Documentary   \n",
      "341165   807763197            Drop & Fry Fried ice Cream            Food   \n",
      "287498   532701307        The Otto's: Live Album and DVD  Country & Folk   \n",
      "\n",
      "       main_category currency   deadline       goal            launched  \\\n",
      "267953         Music      EUR 2015-08-21  11.350407 2015-07-22 18:55:48   \n",
      "373758  Film & Video      USD 2016-11-10   9.210340 2016-09-26 21:11:14   \n",
      "130536  Film & Video      GBP 2015-03-23  10.819778 2015-02-18 01:07:31   \n",
      "341165          Food      USD 2017-07-29  10.308953 2017-05-30 22:52:51   \n",
      "287498         Music      AUD 2014-06-27   7.313220 2014-06-06 05:45:56   \n",
      "\n",
      "        pledged       state  backers country  usd pledged  usd_pledged_real  \\\n",
      "267953      0.0      failed        0      NL         0.00              0.00   \n",
      "373758    410.0    canceled       10      US        20.00            410.00   \n",
      "130536     21.0      failed        2      GB        32.41             31.24   \n",
      "341165     20.0      failed        1      US         0.00             20.00   \n",
      "287498   1900.0  successful       10      AU      1759.97           1789.58   \n",
      "\n",
      "        usd_goal_real  outcome  tlength  duration   category_country  lyear  \\\n",
      "267953       95888.09        0       36        29           Music_NL   2015   \n",
      "373758       10000.00        0       19        44     Documentary_US   2016   \n",
      "130536       74377.09        0       28        33     Documentary_GB   2015   \n",
      "341165       30000.00        0       26        59            Food_US   2017   \n",
      "287498        1412.83        1       30        21  Country & Folk_AU   2014   \n",
      "\n",
      "        lmonth  lday  lhour  dyear  dmonth  dday  project_competition  \\\n",
      "267953       7     2     18   2015       8     4                  1.0   \n",
      "373758       9     0     21   2016      11     3                  2.0   \n",
      "130536       2     2      1   2015       3     0                  3.0   \n",
      "341165       5     1     22   2017       7     5                  2.0   \n",
      "287498       6     4      5   2014       6     4                  2.0   \n",
      "\n",
      "        category_competition  \n",
      "267953           1440.752778  \n",
      "373758           1271.259444  \n",
      "130536           4337.337778  \n",
      "341165           2101.437778  \n",
      "287498            821.741389  \n"
     ]
    }
   ],
   "source": [
    "# FEATURE [CREATION, ENGINEERING]\n",
    "\n",
    "# log transformation on goal column\n",
    "ks['goal'] = np.log(ks.goal)\n",
    "\n",
    "# create titlelength feature = length of the project name\n",
    "ks['tlength'] = ks['name'].str.len()\n",
    "\n",
    "# create duration feature, value in days, gets rounded up\n",
    "ks['duration'] = ((ks['deadline'] - ks['launched']) / np.timedelta64(1, 'D')).round(0).astype(int)\n",
    "\n",
    "# remove projects with duration over 85 since these are outliers\n",
    "ks.drop(ks[ks.duration > 85].index, inplace=True, errors='ignore')\n",
    "\n",
    "# create interaction feature, category + country combination\n",
    "ks['category_country'] = ks['category'] + \"_\" + ks['country']\n",
    "\n",
    "# create launch features, month (1 to 12) and day of week (0 to 6)\n",
    "ks['lyear'] = pd.DatetimeIndex(ks['launched']).year\n",
    "ks['lmonth'] = pd.DatetimeIndex(ks['launched']).month\n",
    "ks['lday'] = pd.DatetimeIndex(ks['launched']).dayofweek\n",
    "ks['lhour'] = pd.DatetimeIndex(ks['launched']).hour\n",
    "\n",
    "# create deadline features, month (1 to 12) and day of week (0 to 6)\n",
    "ks['dyear'] = pd.DatetimeIndex(ks['deadline']).year\n",
    "ks['dmonth'] = pd.DatetimeIndex(ks['deadline']).month\n",
    "ks['dday'] = pd.DatetimeIndex(ks['deadline']).dayofweek \n",
    "\n",
    "# create launch competition feature\n",
    "launches = pd.Series(ks.index, index=ks.launched, name=\"competition\").sort_index()\n",
    "competition = launches.rolling('7d').count() - 1 \n",
    "competition.index = launches.values\n",
    "competition = competition.reindex(ks.index)\n",
    "\n",
    "ks['project_competition'] = competition\n",
    "\n",
    "# create time since last project in same category feature\n",
    "def time_since_last_project(series): return series.diff().dt.total_seconds() / 3600.\n",
    "\n",
    "df = ks[['category', 'launched']].sort_values('launched')\n",
    "timedeltas = df.groupby('category').transform(time_since_last_project)\n",
    "timedeltas = timedeltas.fillna(timedeltas.median()).reindex(ks.index)\n",
    "\n",
    "ks['category_competition'] = timedeltas\n",
    "\n",
    "# create success ratio feature\n",
    "\n",
    "\n",
    "\n",
    "# create money spent feature\n",
    "#def mony_spend_last_month():\n",
    "    \n",
    "\n",
    "#df = ks[['category', 'launched', 'deadline', 'usd pledged']].sort_values('launched')\n",
    "#moneydeltas = df.groupby('category').transform(mony_spend_last_month)\n",
    "#moneydeltas = moneydeltas.fillna(moneydeltas.median()).reindex(ks.index)\n",
    "\n",
    "#ks['category_money'] = moneydeltas\n",
    "#print(df)\n",
    "\n",
    "# print result\n",
    "print(ks.head(5))\n"
   ]
  },
  {
   "cell_type": "code",
   "execution_count": 5,
   "metadata": {},
   "outputs": [
    {
     "data": {
      "image/png": "[encoded data removed]",
      "text/plain": [
       "<Figure size 432x288 with 1 Axes>"
      ]
     },
     "metadata": {
      "needs_background": "light"
     },
     "output_type": "display_data"
    },
    {
     "data": {
      "image/png": "[encoded data removed]",
      "text/plain": [
       "<Figure size 2160x360 with 3 Axes>"
      ]
     },
     "metadata": {
      "needs_background": "light"
     },
     "output_type": "display_data"
    }
   ],
   "source": [
    "sns.countplot(x = 'outcome', data = ks, palette = 'Set3')\n",
    "\n",
    "\n",
    "# FIND OUTLIERS\n",
    "fig, axs = plt.subplots(ncols=3, figsize=(30,5))\n",
    "\n",
    "# goal, kickstarter maximum is 100.000\n",
    "axs[0].set_title(\"goal\")\n",
    "ks['goal'].plot(kind='hist', bins=20, color='darkseagreen', edgecolor='black', log=True, range=[-5,3], ax=axs[0])\n",
    "\n",
    "# tlength\n",
    "axs[1].set_title(\"tlength\")\n",
    "ks['tlength'].plot(kind='hist', bins=20, color='darkseagreen', edgecolor='black', log=True, range=[0,100], ax=axs[1])\n",
    "\n",
    "# duration\n",
    "axs[2].set_title(\"duration\")\n",
    "ks['duration'].plot(kind='hist', bins=20, color='darkseagreen', edgecolor='black', log=True, range=[0,100], ax=axs[2])\n",
    "\n",
    "\n",
    "plt.show()"
   ]
  },
  {
   "cell_type": "code",
   "execution_count": 7,
   "metadata": {},
   "outputs": [
    {
     "name": "stdout",
     "output_type": "stream",
     "text": [
      "        outcome  tlength       goal  duration  lyear  lmonth  lday  lhour  \\\n",
      "267953        0       36  11.350407        29   2015       7     2     18   \n",
      "373758        0       19   9.210340        44   2016       9     0     21   \n",
      "130536        0       28  10.819778        33   2015       2     2      1   \n",
      "341165        0       26  10.308953        59   2017       5     1     22   \n",
      "287498        1       30   7.313220        21   2014       6     4      5   \n",
      "\n",
      "        dyear  dmonth  dday  project_competition  category_competition  \\\n",
      "267953   2015       8     4                  1.0           1440.752778   \n",
      "373758   2016      11     3                  2.0           1271.259444   \n",
      "130536   2015       3     0                  3.0           4337.337778   \n",
      "341165   2017       7     5                  2.0           2101.437778   \n",
      "287498   2014       6     4                  2.0            821.741389   \n",
      "\n",
      "        category  currency   country  category_country  \n",
      "267953  0.384615  0.125000  0.307693          0.343373  \n",
      "373758  0.261905  0.369594  0.373510          0.258065  \n",
      "130536  0.261905  0.322581  0.326087          0.254428  \n",
      "341165  0.282609  0.369594  0.373510          0.289474  \n",
      "287498  0.714285  0.407407  0.423077          0.343373  \n"
     ]
    }
   ],
   "source": [
    "# CATEGORICAL ENCODING (one-hot encoding, label encoding, count encoding, target encoding, catboost encoding)\n",
    "\n",
    "from sklearn.preprocessing import LabelEncoder\n",
    "import category_encoders as ce\n",
    "\n",
    "# categorical features to be encoded\n",
    "features = ['category', 'currency', 'country', 'category_country']\n",
    "\n",
    "# encoders\n",
    "l_encoder = LabelEncoder() # label encoding, encode target labels with value between 0 and n_classes-1.\n",
    "c_encoder = ce.CountEncoder() # count encoding, replaces each categorical value with the number of times it appears in the dataset\n",
    "t_encoder = ce.TargetEncoder(cols=features) # target encoding, replaces a categorical value with the average value of the target for that value of the feature\n",
    "cb_encoder = ce.CatBoostEncoder(cols=features) # catboost encoding, for each row, the target probability is calculated only from the rows before it\n",
    "\n",
    "# encoded features\n",
    "l_encoded = ks[features].apply(l_encoder.fit_transform)\n",
    "c_encoded = c_encoder.fit_transform(ks[features])\n",
    "t_encoded = t_encoder.fit_transform(ks[features], ks['outcome'])\n",
    "cb_encoded = cb_encoder.fit_transform(ks[features], ks['outcome'])\n",
    "\n",
    "# create data set\n",
    "data = ks[['outcome', 'tlength', 'goal', 'duration', 'lyear', 'lmonth', 'lday', 'lhour', 'dyear', 'dmonth', 'dday', 'project_competition', 'category_competition']].join(t_encoded)\n",
    "\n",
    "# print result\n",
    "print(data.head(5))"
   ]
  },
  {
   "cell_type": "code",
   "execution_count": 8,
   "metadata": {},
   "outputs": [
    {
     "name": "stdout",
     "output_type": "stream",
     "text": [
      "    index               Feature  Feature Importance\n",
      "0      15      category_country            0.262673\n",
      "1       1                  goal            0.121879\n",
      "2       0               tlength            0.104406\n",
      "3       6                 lhour            0.078412\n",
      "4      11  category_competition            0.071822\n",
      "5      12              category            0.066567\n",
      "6      10   project_competition            0.064651\n",
      "7       2              duration            0.040067\n",
      "8       7                 dyear            0.039399\n",
      "9       4                lmonth            0.034204\n",
      "10      8                dmonth            0.034148\n",
      "11      5                  lday            0.031535\n",
      "12      9                  dday            0.026077\n",
      "13     14               country            0.013003\n",
      "14      3                 lyear            0.011158\n",
      "15     13              currency            0.000000\n"
     ]
    }
   ],
   "source": [
    "# FEATURE SELECTION\n",
    "from sklearn.tree import DecisionTreeClassifier\n",
    "\n",
    "X = data.drop('outcome', axis = 1).values\n",
    "y = data['outcome']\n",
    "dt = DecisionTreeClassifier(random_state=15, criterion = 'entropy', max_depth = 10)\n",
    "dt.fit(X,y)\n",
    "fi_col = []\n",
    "fi = []\n",
    "for i,column in enumerate(data.drop('outcome', axis = 1)):\n",
    "    fi_col.append(column)\n",
    "    fi.append(dt.feature_importances_[i])\n",
    "fi_col\n",
    "fi\n",
    "fi_df = zip(fi_col, fi)\n",
    "fi_df = pd.DataFrame(fi_df, columns = ['Feature','Feature Importance'])\n",
    "fi_df = fi_df.sort_values('Feature Importance', ascending = False).reset_index()\n",
    "\n",
    "# Creating columns to keep\n",
    "columns_to_keep = fi_df['Feature'][0:10]\n",
    "\n",
    "print(fi_df)\n",
    "\n",
    "# feature selection\n",
    "#data = data[['outcome', 'category_country', 'goal', 'duration', 'tlength', 'category_competition', 'project_competition', 'category']]\n",
    "\n",
    "# correlations\n",
    "#data.corr().abs()[['outcome']]\n"
   ]
  },
  {
   "cell_type": "code",
   "execution_count": 9,
   "metadata": {},
   "outputs": [
    {
     "name": "stdout",
     "output_type": "stream",
     "text": [
      "-----------------------------------\n",
      "[60%] x_train:\t 597\n",
      "[20%] x_valid:\t 199\n",
      "[20%] x_test:\t 200\n",
      "-----------------------------------\n"
     ]
    }
   ],
   "source": [
    "# SCALE AND SPLIT DATA\n",
    "from sklearn.preprocessing import StandardScaler\n",
    "from sklearn.model_selection import train_test_split\n",
    "from sklearn.tree import DecisionTreeClassifier\n",
    "\n",
    "# get predictors: goal, duration, project_competition, category, category_country\n",
    "x_unscaled = data[['goal', 'duration', 'project_competition', 'category', 'category_country']]\n",
    "\n",
    "# get outcome\n",
    "y = data['outcome']\n",
    "\n",
    "# feature scaling/normalizing\n",
    "scaler = StandardScaler()\n",
    "x = pd.DataFrame(scaler.fit_transform(x_unscaled), columns=list(x_unscaled.columns))\n",
    "\n",
    "\n",
    "# split data into training, testing and validation set (60%, 20%, 20%)\n",
    "# data -> training + testing\n",
    "x_train, x_test, y_train, y_test = train_test_split(x, y, test_size=0.2, random_state=42)\n",
    "\n",
    "# training -> training + cross validation\n",
    "x_train, x_valid, y_train, y_valid = train_test_split(x_train, y_train, test_size=0.25, random_state=42)\n",
    "\n",
    "print(\"-\"*35)\n",
    "print(\"[60%] x_train:\\t\", x_train.shape[0])\n",
    "print(\"[20%] x_valid:\\t\", x_valid.shape[0])\n",
    "print(\"[20%] x_test:\\t\", x_test.shape[0])\n",
    "print(\"-\"*35)\n",
    "\n",
    "# check if data is nicely spread\n",
    "# https://imgur.com/a/cCCjKhj\n",
    "# in the image above you see that the projects with outcome 1 are evenly spread among the sets"
   ]
  },
  {
   "cell_type": "code",
   "execution_count": 10,
   "metadata": {},
   "outputs": [
    {
     "name": "stdout",
     "output_type": "stream",
     "text": [
      "------------------------------------------------------------\n",
      "Logistic Regression Model Scores\n",
      "[TRAIN]\t 74.37%\n",
      "[VALID]\t 69.85%\n",
      "[TEST]\t 71.50%\n",
      "------------------------------------------------------------\n",
      "Classification Report\n",
      "              precision    recall  f1-score   support\n",
      "\n",
      "           0       0.74      0.85      0.79       134\n",
      "           1       0.56      0.38      0.45        65\n",
      "\n",
      "    accuracy                           0.70       199\n",
      "   macro avg       0.65      0.62      0.62       199\n",
      "weighted avg       0.68      0.70      0.68       199\n",
      "\n",
      "------------------------------------------------------------\n"
     ]
    }
   ],
   "source": [
    "# LOGISTIC REGRESSION \n",
    "from sklearn.linear_model import LogisticRegression\n",
    "from sklearn.model_selection import cross_val_score, cross_val_predict\n",
    "from sklearn.metrics import classification_report\n",
    "from sklearn.model_selection import learning_curve\n",
    "from sklearn import metrics\n",
    "\n",
    "# create model\n",
    "model = LogisticRegression(C=1)\n",
    "\n",
    "# fit model on training data set\n",
    "model.fit(x_train, y_train)\n",
    "\n",
    "# test model on cross validation data set\n",
    "y_pred_valid = model.predict(x_valid) \n",
    "\n",
    "\n",
    "# model score: score(test samples, true labels for x)\n",
    "print(\"-\"*60)\n",
    "print(\"Logistic Regression Model Scores\")\n",
    "print('[TRAIN]\\t %.2f%%' %(round(model.score(x_train, y_train),5)*100))\n",
    "print('[VALID]\\t %.2f%%' %(round(model.score(x_valid, y_valid),5)*100))\n",
    "print('[TEST]\\t %.2f%%' %(round(model.score(x_test, y_test),5)*100))\n",
    "print(\"-\"*60)\n",
    "\n",
    "# classification report: classification_report(y_true, y_pred)\n",
    "print(\"Classification Report\")\n",
    "print(classification_report(y_valid, y_pred_valid))\n",
    "print(\"-\"*60)\n"
   ]
  },
  {
   "cell_type": "code",
   "execution_count": 11,
   "metadata": {},
   "outputs": [
    {
     "name": "stdout",
     "output_type": "stream",
     "text": [
      "------------------------------------------------------------\n",
      "[ACCURACY]\t 69.85%\n",
      "[PRECISION]\t 55.56%\n",
      "[RECALL]\t 38.46%\n",
      "------------------------------------------------------------\n"
     ]
    },
    {
     "data": {
      "image/png": "[encoded data removed]",
      "text/plain": [
       "<Figure size 432x288 with 2 Axes>"
      ]
     },
     "metadata": {
      "needs_background": "light"
     },
     "output_type": "display_data"
    },
    {
     "data": {
      "image/png": "[encoded data removed]",
      "text/plain": [
       "<Figure size 432x288 with 2 Axes>"
      ]
     },
     "metadata": {
      "needs_background": "light"
     },
     "output_type": "display_data"
    }
   ],
   "source": [
    "# CONFUSION MATRIX LOGISTIC REGRESSION\n",
    "import itertools\n",
    "\n",
    "def plot_confusion_matrix(cm, classes, normalize=False, title=\"Confusion Matrix\", cmap=plt.cm.YlGnBu):\n",
    "    if normalize: cm = cm.astype('float') / cm.sum(axis=1)[:, np.newaxis]\n",
    "\n",
    "    plt.imshow(cm, interpolation='nearest', cmap=cmap)\n",
    "    plt.title(title)\n",
    "    plt.colorbar()\n",
    "    tick_marks = np.arange(len(classes))\n",
    "    plt.xticks(tick_marks, classes, rotation=45)\n",
    "    plt.yticks(tick_marks, classes)\n",
    "\n",
    "    fmt = '.2f' if normalize else 'd'\n",
    "    thresh = cm.max() / 2.\n",
    "    for i, j in itertools.product(range(cm.shape[0]), range(cm.shape[1])):\n",
    "        plt.text(j, i, format(cm[i, j], fmt),\n",
    "            horizontalalignment=\"center\",\n",
    "            color=\"white\" if cm[i, j] > thresh else \"black\",\n",
    "            size=\"20\")\n",
    "           \n",
    "    plt.tight_layout()\n",
    "    plt.ylabel('True label')\n",
    "    plt.xlabel('Predicted label')\n",
    "\n",
    "\n",
    "# confusion matrix: confusion_matrix(y_true, y_pred)\n",
    "cnf_matrix = metrics.confusion_matrix(y_valid, y_pred_valid)\n",
    "np.set_printoptions(precision=2)\n",
    "class_names = ['Successful', 'Failed']\n",
    "\n",
    "plt.figure()\n",
    "plot_confusion_matrix(cnf_matrix, classes=class_names, title='Confusion Matrix')\n",
    "\n",
    "plt.figure()\n",
    "plot_confusion_matrix(cnf_matrix, classes=class_names, normalize=True, title='Normalized Confusion Matrix')\n",
    "\n",
    "# evaluation of confusion matrix\n",
    "print(\"-\"*60)\n",
    "print('[ACCURACY]\\t %.2f%%' %(metrics.accuracy_score(y_valid, y_pred_valid)*100))\n",
    "print('[PRECISION]\\t %.2f%%' %(metrics.precision_score(y_valid, y_pred_valid)*100))\n",
    "print('[RECALL]\\t %.2f%%' %(metrics.recall_score(y_valid, y_pred_valid)*100))\n",
    "print(\"-\"*60)\n"
   ]
  },
  {
   "cell_type": "code",
   "execution_count": 12,
   "metadata": {},
   "outputs": [
    {
     "name": "stdout",
     "output_type": "stream",
     "text": [
      "The Log Loss on Training is:  0.49040846410129757\n",
      "The Log Loss on Testing Dataset is:  0.5511087056400154\n",
      "ROC Curve\n"
     ]
    },
    {
     "data": {
      "image/png": "[encoded data removed]",
      "text/plain": [
       "<Figure size 432x288 with 1 Axes>"
      ]
     },
     "metadata": {
      "needs_background": "light"
     },
     "output_type": "display_data"
    },
    {
     "name": "stdout",
     "output_type": "stream",
     "text": [
      "Test AUC score: 0.7999173212071103\n",
      "------------------------------------------------------------\n"
     ]
    }
   ],
   "source": [
    "y_pred_proba_train = model.predict_proba(x_train) # training\n",
    "y_pred_proba_test = model.predict_proba(x_test) # testing\n",
    "y_pred_proba_valid = model.predict_proba(x_valid) # validation\n",
    "\n",
    "# Running Log loss on training\n",
    "print(\"The Log Loss on Training is: \", metrics.log_loss(y_train, y_pred_proba_train))\n",
    "print(\"The Log Loss on Testing Dataset is: \", metrics.log_loss(y_test, y_pred_proba_test))\n",
    "\n",
    "# RECEIVER OPERATING CHARACTERISTIC (ROC) CURVE: roc_curve(y_true, y_score)\n",
    "print(\"ROC Curve\")\n",
    "y_pred_proba = model.predict_proba(x_test)[::,1]\n",
    "fpr, tpr, _ = metrics.roc_curve(y_test, y_pred_proba)\n",
    "auc = metrics.roc_auc_score(y_test, y_pred_proba)\n",
    "plt.plot(fpr,tpr,label=\"data 1, auc=\"+str(auc))\n",
    "plt.legend(loc=4)\n",
    "plt.show()\n",
    "print(f\"Test AUC score: {auc}\")\n",
    "print(\"-\"*60)\n",
    "\n",
    "\n"
   ]
  },
  {
   "cell_type": "code",
   "execution_count": 13,
   "metadata": {},
   "outputs": [
    {
     "name": "stderr",
     "output_type": "stream",
     "text": [
      "/Users/maartenkesters/opt/anaconda3/lib/python3.8/site-packages/sklearn/model_selection/_validation.py:548: FitFailedWarning: Estimator fit failed. The score on this train-test partition for these parameters will be set to nan. Details: \n",
      "Traceback (most recent call last):\n",
      "  File \"/Users/maartenkesters/opt/anaconda3/lib/python3.8/site-packages/sklearn/model_selection/_validation.py\", line 531, in _fit_and_score\n",
      "    estimator.fit(X_train, y_train, **fit_params)\n",
      "  File \"/Users/maartenkesters/opt/anaconda3/lib/python3.8/site-packages/sklearn/linear_model/_logistic.py\", line 1372, in fit\n",
      "    raise ValueError(\"This solver needs samples of at least 2 classes\"\n",
      "ValueError: This solver needs samples of at least 2 classes in the data, but the data contains only one class: 1\n",
      "\n",
      "  warnings.warn(\"Estimator fit failed. The score on this train-test\"\n"
     ]
    },
    {
     "data": {
      "text/plain": [
       "<matplotlib.legend.Legend at 0x7fbfb7ee3f10>"
      ]
     },
     "execution_count": 13,
     "metadata": {},
     "output_type": "execute_result"
    },
    {
     "data": {
      "image/png": "[encoded data removed]",
      "text/plain": [
       "<Figure size 576x396 with 1 Axes>"
      ]
     },
     "metadata": {},
     "output_type": "display_data"
    }
   ],
   "source": [
    "# learning curve for when using whole dataset\n",
    "# train_sizes, train_scores, validation_scores = learning_curve(estimator = LogisticRegression(), X=x_train, y=y_train, train_sizes = [500, 1000, 1100, 1200, 1300, 1400, 1500, 1600, 1700, 1800, 1900, 2000, 3000, 4000, 5000, 6000, 7000, 8000, 9000, 1000, 15000, 20000, 25000, 25000, 30000, 35000, 40000, 45000, 50000], cv = 5)\n",
    "# learning curve for when using part of dataset\n",
    "train_sizes, train_scores, validation_scores = learning_curve(estimator = LogisticRegression(), X=x_train, y=y_train, train_sizes = [0.01, 0.02, 0.05, 0.1, 0.2, 0.3, 0.4, 0.5, 0.6, 0.7, 0.8, 0.9, 1.0], cv = 5)\n",
    "\n",
    "train_scores_mean = train_scores.mean(axis = 1)\n",
    "validation_scores_mean = validation_scores.mean(axis = 1)\n",
    "\n",
    "import matplotlib.pyplot as plt\n",
    "\n",
    "plt.style.use('seaborn')\n",
    "plt.plot(train_sizes, train_scores_mean, label = 'Training error')\n",
    "plt.plot(train_sizes, validation_scores_mean, label = 'Validation error')\n",
    "plt.ylabel('MSE', fontsize = 14)\n",
    "plt.xlabel('Training set size', fontsize = 14)\n",
    "plt.title('Learning curves for a logistic regression model', fontsize = 18, y = 1.03)\n",
    "plt.legend()\n",
    "#plt.ylim(0.68,0.703)\n"
   ]
  },
  {
   "cell_type": "code",
   "execution_count": null,
   "metadata": {},
   "outputs": [],
   "source": [
    "from sklearn.linear_model import LogisticRegressionCV\n",
    "from sklearn.model_selection import KFold\n",
    "kf = KFold(n_splits=3, random_state=0, shuffle=True)\n",
    "\n",
    "C_List = np.geomspace(1e-5, 1e5, num=20)\n",
    "\n",
    "# Logistic Reg CV\n",
    "Log_reg3 = LogisticRegressionCV(random_state=15, Cs = C_List, solver ='lbfgs')\n",
    "Log_reg3.fit(x_train, y_train)\n",
    "print(\"The CA is:\", Log_reg3.score(x_test, y_test))\n",
    "pred_proba_t = Log_reg3.predict_proba(x_test)\n",
    "log_loss3 = metrics.log_loss(y_test, pred_proba_t)\n",
    "print(\"The Logistic Loss is: \", log_loss3)\n",
    "\n",
    "print(\"The optimal C parameter is: \", Log_reg3.C_)\n",
    "\n",
    "\n",
    "#C_List = np.geomspace(1e-5, 1e5, num=20)\n",
    "CA = []\n",
    "Logarithmic_Loss = []\n",
    "\n",
    "for c in C_List:\n",
    "    log_reg2 = LogisticRegression(random_state=10, solver = 'lbfgs', C=c)\n",
    "    log_reg2.fit(x_train, y_train)\n",
    "    score = log_reg2.score(x_test, y_test)\n",
    "    CA.append(score)\n",
    "    print(\"The CA of C parameter {} is {}:\".format(c, score))\n",
    "    pred_proba_t = log_reg2.predict_proba(x_test)\n",
    "    log_loss2 = metrics.log_loss(y_test, pred_proba_t)\n",
    "    Logarithmic_Loss.append(log_loss2)\n",
    "    print(\"The Logg Loss of C parameter {} is {}:\".format(c, log_loss2))\n",
    "    print(\"\")\n",
    "    \n",
    "    y_pred = log_reg2.predict(x_train)\n",
    "    cm = metrics.confusion_matrix(y_train, y_pred)\n",
    "    #cm_norm = cm / cm.sum(axis=1).reshape(-1,1)\n",
    "    plot_confusion_matrix(cm, normalize=True, classes = model.classes_, title='Confusion matrix', cmap=plt.cm.YlGnBu)\n",
    "    plt.show()\n",
    "\n",
    "\n"
   ]
  },
  {
   "cell_type": "code",
   "execution_count": null,
   "metadata": {},
   "outputs": [],
   "source": [
    "# DON'T EXECUTE! crashte bij mij idk waarom\n",
    "# LightGBM\n",
    "# Tree-based model that typically provides the best performance, even compared to XGBoost. It's also relatively fast to train.\n",
    "\n",
    "import lightgbm as lgb\n",
    "from sklearn import metrics\n",
    "\n",
    "feature_cols = data.columns.drop('outcome')\n",
    "\n",
    "dtrain = lgb.Dataset(data[feature_cols], label=data['outcome'])\n",
    "dvalid = lgb.Dataset(data[feature_cols], label=data['outcome'])\n",
    "\n",
    "param = {'num_leaves': 64, 'objective': 'binary'}\n",
    "param['metric'] = 'auc'\n",
    "num_round = 1000\n",
    "bst = lgb.train(param, dtrain, num_round, valid_sets=[dvalid], early_stopping_rounds=10, verbose_eval=False)\n",
    "\n",
    "ypred = bst.predict(test[feature_cols])\n",
    "score = metrics.roc_auc_score(test['outcome'], ypred)\n",
    "\n",
    "# evaluation\n",
    "print(\"-\"*60)\n",
    "print('Aread Under Curve (AUC): %.2f%%' %(metrics.roc_auc_score(test['outcome'], ypred)*100))\n",
    "print(\"-\"*60)\n",
    "\n",
    "#76.06 (catboost)\n",
    "#76.83 (target)\n",
    "#76.34 (count)\n",
    "#76.33 (label)\n"
   ]
  },
  {
   "cell_type": "code",
   "execution_count": 31,
   "metadata": {},
   "outputs": [
    {
     "name": "stdout",
     "output_type": "stream",
     "text": [
      "------------------------------------------------------------\n",
      "Accuracy: 73.00%\n",
      "Precision: 75.00%\n",
      "Recall: 51.22%\n",
      "------------------------------------------------------------\n"
     ]
    }
   ],
   "source": [
    "# NAIVE BAYES ALGORITHM\n",
    "from sklearn.naive_bayes import GaussianNB\n",
    "from sklearn.metrics import classification_report\n",
    "from sklearn import metrics\n",
    "\n",
    "# instantiate logistic regression model\n",
    "model = GaussianNB()\n",
    "\n",
    "# fit the model with the data\n",
    "model.fit(x_train,y_train)\n",
    "\n",
    "# make predictions\n",
    "predict_test = model.predict(x_test)\n",
    "\n",
    "# evaluation\n",
    "print(\"-\"*60)\n",
    "print('Accuracy: %.2f%%' %(metrics.accuracy_score(y_test, predict_test)*100))\n",
    "print('Precision: %.2f%%' %(metrics.precision_score(y_test, predict_test)*100))\n",
    "print('Recall: %.2f%%' %(metrics.recall_score(y_test, predict_test)*100))\n",
    "print(\"-\"*60)\n"
   ]
  },
  {
   "cell_type": "code",
   "execution_count": null,
   "metadata": {},
   "outputs": [],
   "source": [
    "# NEURAL NETWORK\n",
    "import tensorflow as tf\n",
    "from tensorflow import keras\n",
    "from tensorflow.keras import layers\n",
    "\n",
    "model = keras.Sequential()\n",
    "\n",
    "model.add(layers.Dense(2, activation=\"relu\"))\n",
    "model.add(layers.Dense(3, activation=\"relu\"))\n",
    "model.add(layers.Dense(4))\n",
    "\n",
    "#model.compile(optimizer=\"adam\", loss='binary_crossentropy', metrics=['accuracy'])\n",
    "#model.fit(x_train, y_train, batch_size=32, epochs=50)\n",
    "\n",
    "#model.summary()\n",
    "\n",
    "#y_pred = model.predict_classes(x_test)\n",
    "#print(metrics.accuracy_score(y_test, y_pred))\n",
    "\n"
   ]
  },
  {
   "cell_type": "code",
   "execution_count": 30,
   "metadata": {},
   "outputs": [
    {
     "name": "stdout",
     "output_type": "stream",
     "text": [
      "------------------------------------------------------------\n",
      "Support Vector Machines Model Scores\n",
      "[TRAIN]\t 75.38%\n",
      "[VALID]\t 69.85%\n",
      "[TEST]\t 67.50%\n",
      "------------------------------------------------------------\n",
      "Classification Report\n",
      "              precision    recall  f1-score   support\n",
      "\n",
      "           0       0.71      0.93      0.81       134\n",
      "           1       0.61      0.22      0.32        65\n",
      "\n",
      "    accuracy                           0.70       199\n",
      "   macro avg       0.66      0.57      0.56       199\n",
      "weighted avg       0.68      0.70      0.65       199\n",
      "\n",
      "------------------------------------------------------------\n"
     ]
    }
   ],
   "source": [
    "# SUPORRT VECTOR MACHINES\n",
    "from sklearn import svm\n",
    "from sklearn import metrics\n",
    "\n",
    "# Split dataset in train, validate, test sets\n",
    "# x_train, x_valid, x_test, y_train, y_valid, y_test\n",
    "\n",
    "# Create a svm Classifier\n",
    "clf = svm.SVC(kernel='rbf') # Linear Kernel, or radial basis function?\n",
    "\n",
    "# Train the model using the training sets\n",
    "clf.fit(x_train, y_train)\n",
    "\n",
    "# test model on cross validation data set\n",
    "y_pred_valid_SVM = clf.predict(x_valid)\n",
    "\n",
    "# model score: score(test samples, true labels for x)\n",
    "print(\"-\"*60)\n",
    "print(\"Support Vector Machines Model Scores\")\n",
    "print('[TRAIN]\\t %.2f%%' %(round(clf.score(x_train, y_train),5)*100))\n",
    "print('[VALID]\\t %.2f%%' %(round(clf.score(x_valid, y_valid),5)*100))\n",
    "print('[TEST]\\t %.2f%%' %(round(clf.score(x_test, y_test),5)*100))\n",
    "print(\"-\"*60)\n",
    "\n",
    "# classification report: classification_report(y_true, y_pred)\n",
    "print(\"Classification Report\")\n",
    "print(classification_report(y_valid, y_pred_valid_SVM))\n",
    "print(\"-\"*60)\n",
    "\n",
    "# evaluationg the model\n",
    "#print(\"Accuracy:\",metrics.accuracy_score(y_test, y_pred_valid))\n",
    "#print(\"Precision:\",metrics.precision_score(y_test, y_pred_valid))\n",
    "#print(\"Recall:\",metrics.recall_score(y_test, y_pred_valid))"
   ]
  },
  {
   "cell_type": "code",
   "execution_count": 25,
   "metadata": {},
   "outputs": [
    {
     "name": "stdout",
     "output_type": "stream",
     "text": [
      "------------------------------------------------------------\n",
      "[ACCURACY]\t 67.84%\n",
      "[PRECISION]\t 51.61%\n",
      "[RECALL]\t 24.62%\n",
      "------------------------------------------------------------\n"
     ]
    },
    {
     "data": {
      "image/png": "[encoded data removed]",
      "text/plain": [
       "<Figure size 576x396 with 2 Axes>"
      ]
     },
     "metadata": {},
     "output_type": "display_data"
    },
    {
     "data": {
      "image/png": "[encoded data removed]",
      "text/plain": [
       "<Figure size 576x396 with 2 Axes>"
      ]
     },
     "metadata": {},
     "output_type": "display_data"
    }
   ],
   "source": [
    "# CONFUSION MATRIX SVM\n",
    "\n",
    "def plot_confusion_matrix(cm, classes, normalize=False, title=\"Confusion Matrix\", cmap=plt.cm.YlGnBu):\n",
    "    if normalize: cm = cm.astype('float') / cm.sum(axis=1)[:, np.newaxis]\n",
    "\n",
    "    plt.imshow(cm, interpolation='nearest', cmap=cmap)\n",
    "    plt.title(title)\n",
    "    plt.colorbar()\n",
    "    tick_marks = np.arange(len(classes))\n",
    "    plt.xticks(tick_marks, classes, rotation=45)\n",
    "    plt.yticks(tick_marks, classes)\n",
    "\n",
    "    fmt = '.2f' if normalize else 'd'\n",
    "    thresh = cm.max() / 2.\n",
    "    for i, j in itertools.product(range(cm.shape[0]), range(cm.shape[1])):\n",
    "        plt.text(j, i, format(cm[i, j], fmt),\n",
    "            horizontalalignment=\"center\",\n",
    "            color=\"white\" if cm[i, j] > thresh else \"black\",\n",
    "            size=\"20\")\n",
    "           \n",
    "    plt.tight_layout()\n",
    "    plt.ylabel('True label')\n",
    "    plt.xlabel('Predicted label')\n",
    "\n",
    "\n",
    "# confusion matrix: confusion_matrix(y_true, y_pred)\n",
    "cnf_matrix = metrics.confusion_matrix(y_valid, y_pred_valid)\n",
    "np.set_printoptions(precision=2)\n",
    "class_names = ['Successful', 'Failed']\n",
    "\n",
    "plt.figure()\n",
    "plot_confusion_matrix(cnf_matrix, classes=class_names, title='Confusion Matrix')\n",
    "\n",
    "plt.figure()\n",
    "plot_confusion_matrix(cnf_matrix, classes=class_names, normalize=True, title='Normalized Confusion Matrix')\n",
    "\n",
    "# evaluation of confusion matrix\n",
    "print(\"-\"*60)\n",
    "print('[ACCURACY]\\t %.2f%%' %(metrics.accuracy_score(y_valid, y_pred_valid_SVM)*100))\n",
    "print('[PRECISION]\\t %.2f%%' %(metrics.precision_score(y_valid, y_pred_valid_SVM)*100))\n",
    "print('[RECALL]\\t %.2f%%' %(metrics.recall_score(y_valid, y_pred_valid_SVM)*100))\n",
    "print(\"-\"*60)"
   ]
  },
  {
   "cell_type": "code",
   "execution_count": null,
   "metadata": {},
   "outputs": [],
   "source": []
  }
 ],
 "metadata": {
  "kernelspec": {
   "display_name": "Python 3",
   "language": "python",
   "name": "python3"
  },
  "language_info": {
   "codemirror_mode": {
    "name": "ipython",
    "version": 3
   },
   "file_extension": ".py",
   "mimetype": "text/x-python",
   "name": "python",
   "nbconvert_exporter": "python",
   "pygments_lexer": "ipython3",
   "version": "3.8.3"
  }
 },
 "nbformat": 4,
 "nbformat_minor": 2
}
